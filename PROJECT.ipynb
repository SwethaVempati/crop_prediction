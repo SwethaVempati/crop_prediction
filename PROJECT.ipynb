{
 "cells": [
  {
   "cell_type": "markdown",
   "metadata": {},
   "source": [
    "## IMPORT STANDARD PACKAGES"
   ]
  },
  {
   "cell_type": "code",
   "execution_count": 25,
   "metadata": {},
   "outputs": [],
   "source": [
    "from __future__ import print_function\n",
    "import pandas as pd\n",
    "import numpy as np\n",
    "import seaborn as sns\n",
    "from sklearn.metrics import classification_report\n",
    "from sklearn.metrics import precision_score,recall_score,f1_score\n",
    "from sklearn import metrics\n",
    "from sklearn import tree\n",
    "from sklearn.model_selection import cross_val_score\n",
    "import warnings\n",
    "warnings.filterwarnings('ignore')\n",
    "from ipywidgets import interact, interactive, fixed, interact_manual\n",
    "import ipywidgets as widgets\n",
    "import matplotlib.pyplot as plt\n"
   ]
  },
  {
   "cell_type": "markdown",
   "metadata": {},
   "source": [
    "## EXPLORATORY DATA ANALYSIS"
   ]
  },
  {
   "cell_type": "code",
   "execution_count": 26,
   "metadata": {},
   "outputs": [
    {
     "data": {
      "text/html": [
       "<div>\n",
       "<style scoped>\n",
       "    .dataframe tbody tr th:only-of-type {\n",
       "        vertical-align: middle;\n",
       "    }\n",
       "\n",
       "    .dataframe tbody tr th {\n",
       "        vertical-align: top;\n",
       "    }\n",
       "\n",
       "    .dataframe thead th {\n",
       "        text-align: right;\n",
       "    }\n",
       "</style>\n",
       "<table border=\"1\" class=\"dataframe\">\n",
       "  <thead>\n",
       "    <tr style=\"text-align: right;\">\n",
       "      <th></th>\n",
       "      <th>N</th>\n",
       "      <th>P</th>\n",
       "      <th>K</th>\n",
       "      <th>temperature</th>\n",
       "      <th>humidity</th>\n",
       "      <th>ph</th>\n",
       "      <th>rainfall</th>\n",
       "      <th>label</th>\n",
       "    </tr>\n",
       "  </thead>\n",
       "  <tbody>\n",
       "    <tr>\n",
       "      <th>0</th>\n",
       "      <td>90</td>\n",
       "      <td>42</td>\n",
       "      <td>43</td>\n",
       "      <td>20.879744</td>\n",
       "      <td>82.002744</td>\n",
       "      <td>6.502985</td>\n",
       "      <td>202.935536</td>\n",
       "      <td>rice</td>\n",
       "    </tr>\n",
       "    <tr>\n",
       "      <th>1</th>\n",
       "      <td>85</td>\n",
       "      <td>58</td>\n",
       "      <td>41</td>\n",
       "      <td>21.770462</td>\n",
       "      <td>80.319644</td>\n",
       "      <td>7.038096</td>\n",
       "      <td>226.655537</td>\n",
       "      <td>rice</td>\n",
       "    </tr>\n",
       "    <tr>\n",
       "      <th>2</th>\n",
       "      <td>60</td>\n",
       "      <td>55</td>\n",
       "      <td>44</td>\n",
       "      <td>23.004459</td>\n",
       "      <td>82.320763</td>\n",
       "      <td>7.840207</td>\n",
       "      <td>263.964248</td>\n",
       "      <td>rice</td>\n",
       "    </tr>\n",
       "    <tr>\n",
       "      <th>3</th>\n",
       "      <td>74</td>\n",
       "      <td>35</td>\n",
       "      <td>40</td>\n",
       "      <td>26.491096</td>\n",
       "      <td>80.158363</td>\n",
       "      <td>6.980401</td>\n",
       "      <td>242.864034</td>\n",
       "      <td>rice</td>\n",
       "    </tr>\n",
       "    <tr>\n",
       "      <th>4</th>\n",
       "      <td>78</td>\n",
       "      <td>42</td>\n",
       "      <td>42</td>\n",
       "      <td>20.130175</td>\n",
       "      <td>81.604873</td>\n",
       "      <td>7.628473</td>\n",
       "      <td>262.717340</td>\n",
       "      <td>rice</td>\n",
       "    </tr>\n",
       "  </tbody>\n",
       "</table>\n",
       "</div>"
      ],
      "text/plain": [
       "    N   P   K  temperature   humidity        ph    rainfall label\n",
       "0  90  42  43    20.879744  82.002744  6.502985  202.935536  rice\n",
       "1  85  58  41    21.770462  80.319644  7.038096  226.655537  rice\n",
       "2  60  55  44    23.004459  82.320763  7.840207  263.964248  rice\n",
       "3  74  35  40    26.491096  80.158363  6.980401  242.864034  rice\n",
       "4  78  42  42    20.130175  81.604873  7.628473  262.717340  rice"
      ]
     },
     "execution_count": 26,
     "metadata": {},
     "output_type": "execute_result"
    }
   ],
   "source": [
    "crop = pd.read_csv('Crop_recommendation.csv')\n",
    "crop.head()"
   ]
  },
  {
   "cell_type": "code",
   "execution_count": 27,
   "metadata": {},
   "outputs": [
    {
     "data": {
      "text/html": [
       "<div>\n",
       "<style scoped>\n",
       "    .dataframe tbody tr th:only-of-type {\n",
       "        vertical-align: middle;\n",
       "    }\n",
       "\n",
       "    .dataframe tbody tr th {\n",
       "        vertical-align: top;\n",
       "    }\n",
       "\n",
       "    .dataframe thead th {\n",
       "        text-align: right;\n",
       "    }\n",
       "</style>\n",
       "<table border=\"1\" class=\"dataframe\">\n",
       "  <thead>\n",
       "    <tr style=\"text-align: right;\">\n",
       "      <th></th>\n",
       "      <th>N</th>\n",
       "      <th>P</th>\n",
       "      <th>K</th>\n",
       "      <th>temperature</th>\n",
       "      <th>humidity</th>\n",
       "      <th>ph</th>\n",
       "      <th>rainfall</th>\n",
       "    </tr>\n",
       "  </thead>\n",
       "  <tbody>\n",
       "    <tr>\n",
       "      <th>count</th>\n",
       "      <td>2200.000000</td>\n",
       "      <td>2200.000000</td>\n",
       "      <td>2200.000000</td>\n",
       "      <td>2200.000000</td>\n",
       "      <td>2200.000000</td>\n",
       "      <td>2200.000000</td>\n",
       "      <td>2200.000000</td>\n",
       "    </tr>\n",
       "    <tr>\n",
       "      <th>mean</th>\n",
       "      <td>50.551818</td>\n",
       "      <td>53.362727</td>\n",
       "      <td>48.149091</td>\n",
       "      <td>25.616244</td>\n",
       "      <td>71.481779</td>\n",
       "      <td>6.469480</td>\n",
       "      <td>103.463655</td>\n",
       "    </tr>\n",
       "    <tr>\n",
       "      <th>std</th>\n",
       "      <td>36.917334</td>\n",
       "      <td>32.985883</td>\n",
       "      <td>50.647931</td>\n",
       "      <td>5.063749</td>\n",
       "      <td>22.263812</td>\n",
       "      <td>0.773938</td>\n",
       "      <td>54.958389</td>\n",
       "    </tr>\n",
       "    <tr>\n",
       "      <th>min</th>\n",
       "      <td>0.000000</td>\n",
       "      <td>5.000000</td>\n",
       "      <td>5.000000</td>\n",
       "      <td>8.825675</td>\n",
       "      <td>14.258040</td>\n",
       "      <td>3.504752</td>\n",
       "      <td>20.211267</td>\n",
       "    </tr>\n",
       "    <tr>\n",
       "      <th>25%</th>\n",
       "      <td>21.000000</td>\n",
       "      <td>28.000000</td>\n",
       "      <td>20.000000</td>\n",
       "      <td>22.769375</td>\n",
       "      <td>60.261953</td>\n",
       "      <td>5.971693</td>\n",
       "      <td>64.551686</td>\n",
       "    </tr>\n",
       "    <tr>\n",
       "      <th>50%</th>\n",
       "      <td>37.000000</td>\n",
       "      <td>51.000000</td>\n",
       "      <td>32.000000</td>\n",
       "      <td>25.598693</td>\n",
       "      <td>80.473146</td>\n",
       "      <td>6.425045</td>\n",
       "      <td>94.867624</td>\n",
       "    </tr>\n",
       "    <tr>\n",
       "      <th>75%</th>\n",
       "      <td>84.250000</td>\n",
       "      <td>68.000000</td>\n",
       "      <td>49.000000</td>\n",
       "      <td>28.561654</td>\n",
       "      <td>89.948771</td>\n",
       "      <td>6.923643</td>\n",
       "      <td>124.267508</td>\n",
       "    </tr>\n",
       "    <tr>\n",
       "      <th>max</th>\n",
       "      <td>140.000000</td>\n",
       "      <td>145.000000</td>\n",
       "      <td>205.000000</td>\n",
       "      <td>43.675493</td>\n",
       "      <td>99.981876</td>\n",
       "      <td>9.935091</td>\n",
       "      <td>298.560117</td>\n",
       "    </tr>\n",
       "  </tbody>\n",
       "</table>\n",
       "</div>"
      ],
      "text/plain": [
       "                 N            P            K  temperature     humidity  \\\n",
       "count  2200.000000  2200.000000  2200.000000  2200.000000  2200.000000   \n",
       "mean     50.551818    53.362727    48.149091    25.616244    71.481779   \n",
       "std      36.917334    32.985883    50.647931     5.063749    22.263812   \n",
       "min       0.000000     5.000000     5.000000     8.825675    14.258040   \n",
       "25%      21.000000    28.000000    20.000000    22.769375    60.261953   \n",
       "50%      37.000000    51.000000    32.000000    25.598693    80.473146   \n",
       "75%      84.250000    68.000000    49.000000    28.561654    89.948771   \n",
       "max     140.000000   145.000000   205.000000    43.675493    99.981876   \n",
       "\n",
       "                ph     rainfall  \n",
       "count  2200.000000  2200.000000  \n",
       "mean      6.469480   103.463655  \n",
       "std       0.773938    54.958389  \n",
       "min       3.504752    20.211267  \n",
       "25%       5.971693    64.551686  \n",
       "50%       6.425045    94.867624  \n",
       "75%       6.923643   124.267508  \n",
       "max       9.935091   298.560117  "
      ]
     },
     "execution_count": 27,
     "metadata": {},
     "output_type": "execute_result"
    }
   ],
   "source": [
    "crop.describe()"
   ]
  },
  {
   "cell_type": "code",
   "execution_count": 28,
   "metadata": {},
   "outputs": [
    {
     "data": {
      "text/plain": [
       "N              0\n",
       "P              0\n",
       "K              0\n",
       "temperature    0\n",
       "humidity       0\n",
       "ph             0\n",
       "rainfall       0\n",
       "label          0\n",
       "dtype: int64"
      ]
     },
     "execution_count": 28,
     "metadata": {},
     "output_type": "execute_result"
    }
   ],
   "source": [
    "crop.isnull().sum()"
   ]
  },
  {
   "cell_type": "code",
   "execution_count": 29,
   "metadata": {},
   "outputs": [
    {
     "data": {
      "text/plain": [
       "jute           100\n",
       "apple          100\n",
       "grapes         100\n",
       "mungbean       100\n",
       "orange         100\n",
       "lentil         100\n",
       "pomegranate    100\n",
       "coconut        100\n",
       "watermelon     100\n",
       "muskmelon      100\n",
       "pigeonpeas     100\n",
       "rice           100\n",
       "banana         100\n",
       "cotton         100\n",
       "blackgram      100\n",
       "chickpea       100\n",
       "mango          100\n",
       "mothbeans      100\n",
       "papaya         100\n",
       "maize          100\n",
       "kidneybeans    100\n",
       "coffee         100\n",
       "Name: label, dtype: int64"
      ]
     },
     "execution_count": 29,
     "metadata": {},
     "output_type": "execute_result"
    }
   ],
   "source": [
    "crop['label'].value_counts()"
   ]
  },
  {
   "cell_type": "code",
   "execution_count": 6,
   "metadata": {},
   "outputs": [
    {
     "data": {
      "application/vnd.jupyter.widget-view+json": {
       "model_id": "43a88971d1a44717b9a84aede7ef2667",
       "version_major": 2,
       "version_minor": 0
      },
      "text/plain": [
       "interactive(children=(Dropdown(description='conditions', options=('N', 'P', 'K', 'temperature', 'ph', 'humidit…"
      ]
     },
     "metadata": {},
     "output_type": "display_data"
    }
   ],
   "source": [
    "@interact\n",
    "def compare(conditions = ['N','P','K','temperature','ph','humidity','rainfall']):\n",
    "    print(\"Average Value for\",conditions,\"is {0: .2f}\".format(crop[conditions].mean()))\n",
    "    print(\"----------------------------------------------------------------\")\n",
    "    print(\"Rice : {0: .2f}\".format(crop[(crop['label'] == 'rice')][conditions].mean()))\n",
    "    print(\"Black Grams : {0: .2f}\".format(crop[(crop['label'] == 'blackgram')][conditions].mean()))\n",
    "    print(\"Banana : {0: .2f}\".format(crop[(crop['label'] == 'banana')][conditions].mean()))\n",
    "    print(\"Jute : {0: .2f}\".format(crop[(crop['label'] == 'jute')][conditions].mean()))\n",
    "    print(\"Coconut : {0: .2f}\".format(crop[(crop['label'] == 'coconut')][conditions].mean()))\n",
    "    print(\"Apple : {0: .2f}\".format(crop[(crop['label'] == 'apple')][conditions].mean()))\n",
    "    print(\"Papaya : {0: .2f}\".format(crop[(crop['label'] == 'papaya')][conditions].mean()))\n",
    "    print(\"Muskmelon : {0: .2f}\".format(crop[(crop['label'] == 'muskmelon')][conditions].mean()))\n",
    "    print(\"Grapes : {0: .2f}\".format(crop[(crop['label'] == 'grapes')][conditions].mean()))\n",
    "    print(\"Watermelon : {0: .2f}\".format(crop[(crop['label'] == 'watermelon')][conditions].mean()))\n",
    "    print(\"Kedney Beans : {0: .2f}\".format(crop[(crop['label'] == 'kidneybeans')][conditions].mean()))\n",
    "    print(\"Mung Beans : {0: .2f}\".format(crop[(crop['label'] == 'mungbean')][conditions].mean()))\n",
    "    print(\"Oranges : {0: .2f}\".format(crop[(crop['label'] == 'orange')][conditions].mean()))\n",
    "    print(\"Chick Peas : {0: .2f}\".format(crop[(crop['label'] == 'chickpea')][conditions].mean()))\n",
    "    print(\"Lentils : {0: .2f}\".format(crop[(crop['label'] == 'lentil')][conditions].mean()))\n",
    "    print(\"Cotton : {0: .2f}\".format(crop[(crop['label'] == 'cotton')][conditions].mean()))\n",
    "    print(\"Maize : {0: .2f}\".format(crop[(crop['label'] == 'maize')][conditions].mean()))\n",
    "    print(\"Moth Beans : {0: .2f}\".format(crop[(crop['label'] == 'mothbeans')][conditions].mean()))\n",
    "    print(\"Pigeon peas : {0: .2f}\".format(crop[(crop['label'] == 'pigeonpeas')][conditions].mean()))\n",
    "    print(\"Mango : {0: .2f}\".format(crop[(crop['label'] == 'mango')][conditions].mean()))\n",
    "    print(\"Pomegrante : {0: .2f}\".format(crop[(crop['label'] == 'pomegrante')][conditions].mean()))\n",
    "    print(\"Coffee : {0: .2f}\".format(crop[(crop['label'] == 'coffee')][conditions].mean()))\n",
    "    "
   ]
  },
  {
   "cell_type": "code",
   "execution_count": 7,
   "metadata": {},
   "outputs": [
    {
     "data": {
      "application/vnd.jupyter.widget-view+json": {
       "model_id": "486ae59a78964b2ea9682fbd70e0edc3",
       "version_major": 2,
       "version_minor": 0
      },
      "text/plain": [
       "interactive(children=(Dropdown(description='Crop_types', options=('jute', 'apple', 'grapes', 'mungbean', 'oran…"
      ]
     },
     "metadata": {},
     "output_type": "display_data"
    }
   ],
   "source": [
    "@interact\n",
    "def summary(Crop_types = list(crop['label'].value_counts().index)):\n",
    "    x = crop[crop['label'] == Crop_types]\n",
    "    print(\"-------------------------------------------------\")\n",
    "    print(\"Statistics for Nitrogen :\")\n",
    "    print(\"Minimum Nitrogen Required :\", x['N'].min())\n",
    "    print(\"Average Nitrogen Required :\", x['N'].mean())\n",
    "    print(\"Maximum Nitrogen Required :\", x['N'].max())\n",
    "    print(\"-------------------------------------------------\")\n",
    "    print(\"Statistics for Phosphorous :\")\n",
    "    print(\"Minimum Phosphorous Required :\", x['P'].min())\n",
    "    print(\"Average Phosphorous Required :\", x['P'].mean())\n",
    "    print(\"Maximum Phosphorous Required :\", x['P'].max())\n",
    "    print(\"-------------------------------------------------\")\n",
    "    print(\"Statistics for Potassium :\")\n",
    "    print(\"Minimum Potassium Required :\", x['K'].min())\n",
    "    print(\"Average Potassium Required :\", x['K'].mean())\n",
    "    print(\"Maximum Potassium Required :\", x['K'].max())\n",
    "    print(\"-------------------------------------------------\")\n",
    "    print(\"Statistics for Temperature :\")\n",
    "    print(\"Minimum Temperature Required : {0: .2f}\".format(x['temperature'].min()))\n",
    "    print(\"Average Temperature Required : {0: .2f}\".format(x['temperature'].mean()))\n",
    "    print(\"Maximum Temperature Required : {0: .2f}\".format(x['temperature'].max()))\n",
    "    print(\"-------------------------------------------------\")\n",
    "    print(\"Statistics for Humidity :\")\n",
    "    print(\"Minimum Humidity Required : {0: .2f}\".format(x['humidity'].min()))\n",
    "    print(\"Average Humidity Required : {0: .2f}\".format(x['humidity'].mean()))\n",
    "    print(\"Maximum Humidity Required : {0: .2f}\".format(x['humidity'].max()))\n",
    "    print(\"-------------------------------------------------\")\n",
    "    print(\"Statistics for PH :\")\n",
    "    print(\"Minimum PH Required : {0: .2f}\".format(x['ph'].min()))\n",
    "    print(\"Average PH Required : {0: .2f}\".format(x['ph'].mean()))\n",
    "    print(\"Maximum PH Required : {0: .2f}\".format(x['ph'].max()))\n",
    "    print(\"-------------------------------------------------\")\n",
    "    print(\"Statistics for Rainfall :\")\n",
    "    print(\"Minimum Rainfall Required : {0: .2f}\".format(x['rainfall'].min()))\n",
    "    print(\"Average Rainfall Required : {0: .2f}\".format(x['rainfall'].mean()))\n",
    "    print(\"Maximum Rainfall Required : {0: .2f}\".format(x['rainfall'].max()))\n",
    "    print(\"-------------------------------------------------\")\n",
    "    "
   ]
  },
  {
   "cell_type": "markdown",
   "metadata": {},
   "source": [
    "## FEATURE SELECTION"
   ]
  },
  {
   "cell_type": "code",
   "execution_count": 8,
   "metadata": {},
   "outputs": [],
   "source": [
    "features = crop[['N', 'P','K','temperature','humidity','ph','rainfall']]\n",
    "target = crop['label']\n",
    "labels = crop['label']\n",
    "acc = []\n",
    "model = []\n",
    "\n",
    "from sklearn.model_selection import train_test_split\n",
    "Xtrain, Xtest, Ytrain, Ytest = train_test_split(features,target,test_size = 0.2,random_state =2)"
   ]
  },
  {
   "cell_type": "markdown",
   "metadata": {},
   "source": [
    "## DECISION TREE ALGORITHM"
   ]
  },
  {
   "cell_type": "code",
   "execution_count": 9,
   "metadata": {},
   "outputs": [
    {
     "name": "stdout",
     "output_type": "stream",
     "text": [
      "DecisionTrees's Accuracy is:  90.0\n",
      "             precision    recall  f1-score   support\n",
      "\n",
      "      apple       1.00      1.00      1.00        13\n",
      "     banana       1.00      1.00      1.00        17\n",
      "  blackgram       0.59      1.00      0.74        16\n",
      "   chickpea       1.00      1.00      1.00        21\n",
      "    coconut       0.91      1.00      0.95        21\n",
      "     coffee       1.00      1.00      1.00        22\n",
      "     cotton       1.00      1.00      1.00        20\n",
      "     grapes       1.00      1.00      1.00        18\n",
      "       jute       0.74      0.93      0.83        28\n",
      "kidneybeans       0.00      0.00      0.00        14\n",
      "     lentil       0.68      1.00      0.81        23\n",
      "      maize       1.00      1.00      1.00        21\n",
      "      mango       1.00      1.00      1.00        26\n",
      "  mothbeans       0.00      0.00      0.00        19\n",
      "   mungbean       1.00      1.00      1.00        24\n",
      "  muskmelon       1.00      1.00      1.00        23\n",
      "     orange       1.00      1.00      1.00        29\n",
      "     papaya       1.00      0.84      0.91        19\n",
      " pigeonpeas       0.62      1.00      0.77        18\n",
      "pomegranate       1.00      1.00      1.00        17\n",
      "       rice       1.00      0.62      0.77        16\n",
      " watermelon       1.00      1.00      1.00        15\n",
      "\n",
      "avg / total       0.86      0.90      0.87       440\n",
      "\n"
     ]
    }
   ],
   "source": [
    "from sklearn.tree import DecisionTreeClassifier\n",
    "\n",
    "DecisionTree = DecisionTreeClassifier(criterion=\"entropy\",random_state=2,max_depth=5)\n",
    "\n",
    "DecisionTree.fit(Xtrain,Ytrain)\n",
    "\n",
    "predicted_values = DecisionTree.predict(Xtest)\n",
    "x = metrics.accuracy_score(Ytest, predicted_values)\n",
    "acc.append(x)\n",
    "model.append('Decision Tree')\n",
    "print(\"DecisionTrees's Accuracy is: \", x*100)\n",
    "\n",
    "print(classification_report(Ytest,predicted_values))"
   ]
  },
  {
   "cell_type": "code",
   "execution_count": 10,
   "metadata": {},
   "outputs": [
    {
     "name": "stdout",
     "output_type": "stream",
     "text": [
      "Cross validation score:  [0.93636364 0.90909091 0.91818182 0.87045455 0.93636364]\n"
     ]
    }
   ],
   "source": [
    "score = cross_val_score(DecisionTree, features, target,cv=5)\n",
    "print('Cross validation score: ',score)"
   ]
  },
  {
   "cell_type": "code",
   "execution_count": 11,
   "metadata": {},
   "outputs": [
    {
     "name": "stdout",
     "output_type": "stream",
     "text": [
      "Training accuracy =  0.8818181818181818\n",
      "Testing accuracy =  0.9\n"
     ]
    }
   ],
   "source": [
    "#Print Train Accuracy\n",
    "dt_train_accuracy = DecisionTree.score(Xtrain,Ytrain)\n",
    "print(\"Training accuracy = \",DecisionTree.score(Xtrain,Ytrain))\n",
    "#Print Test Accuracy\n",
    "dt_test_accuracy = DecisionTree.score(Xtest,Ytest)\n",
    "print(\"Testing accuracy = \",DecisionTree.score(Xtest,Ytest))"
   ]
  },
  {
   "cell_type": "code",
   "execution_count": 12,
   "metadata": {},
   "outputs": [
    {
     "data": {
      "image/png": "[encoded data removed]",
      "text/plain": [
       "<Figure size 1080x720 with 2 Axes>"
      ]
     },
     "metadata": {},
     "output_type": "display_data"
    }
   ],
   "source": [
    "Ypred = DecisionTree.predict(Xtest)\n",
    "Ytrue = Ytest\n",
    "\n",
    "from sklearn.metrics import confusion_matrix\n",
    "\n",
    "cm_dt = confusion_matrix(Ytrue,Ypred)\n",
    "\n",
    "f, ax = plt.subplots(figsize=(15,10))\n",
    "sns.heatmap(cm_dt, annot=True, linewidth=0.5, fmt=\".0f\",  cmap='viridis', ax = ax)\n",
    "plt.xlabel(\"Predicted\")\n",
    "plt.ylabel(\"Actual\")\n",
    "plt.title('Predicted vs actual')\n",
    "plt.show()\n"
   ]
  },
  {
   "cell_type": "markdown",
   "metadata": {},
   "source": [
    "## NAIVE BAYES CALSSIFICATION ALGORITHM"
   ]
  },
  {
   "cell_type": "code",
   "execution_count": 13,
   "metadata": {},
   "outputs": [
    {
     "name": "stdout",
     "output_type": "stream",
     "text": [
      "Naive Bayes Accuracy is:  99.0909090909091\n",
      "             precision    recall  f1-score   support\n",
      "\n",
      "      apple       1.00      1.00      1.00        13\n",
      "     banana       1.00      1.00      1.00        17\n",
      "  blackgram       1.00      1.00      1.00        16\n",
      "   chickpea       1.00      1.00      1.00        21\n",
      "    coconut       1.00      1.00      1.00        21\n",
      "     coffee       1.00      1.00      1.00        22\n",
      "     cotton       1.00      1.00      1.00        20\n",
      "     grapes       1.00      1.00      1.00        18\n",
      "       jute       0.88      1.00      0.93        28\n",
      "kidneybeans       1.00      1.00      1.00        14\n",
      "     lentil       1.00      1.00      1.00        23\n",
      "      maize       1.00      1.00      1.00        21\n",
      "      mango       1.00      1.00      1.00        26\n",
      "  mothbeans       1.00      1.00      1.00        19\n",
      "   mungbean       1.00      1.00      1.00        24\n",
      "  muskmelon       1.00      1.00      1.00        23\n",
      "     orange       1.00      1.00      1.00        29\n",
      "     papaya       1.00      1.00      1.00        19\n",
      " pigeonpeas       1.00      1.00      1.00        18\n",
      "pomegranate       1.00      1.00      1.00        17\n",
      "       rice       1.00      0.75      0.86        16\n",
      " watermelon       1.00      1.00      1.00        15\n",
      "\n",
      "avg / total       0.99      0.99      0.99       440\n",
      "\n"
     ]
    }
   ],
   "source": [
    "from sklearn.naive_bayes import GaussianNB\n",
    "NaiveBayes = GaussianNB()\n",
    "\n",
    "NaiveBayes.fit(Xtrain,Ytrain)\n",
    "\n",
    "predicted_values = NaiveBayes.predict(Xtest)\n",
    "x = metrics.accuracy_score(Ytest, predicted_values)\n",
    "#x_pre= metrics.precision_score(Ytest, predicted_values)\n",
    "#x_rec= metrics.recall_score(Ytest, predicted_values)\n",
    "#x_Fscore= metrics.f1_score(Ytest, predicted_values)\n",
    "acc.append(x)\n",
    "model.append('Naive Bayes')\n",
    "print(\"Naive Bayes Accuracy is: \", x*100)\n",
    "\n",
    "print(classification_report(Ytest,predicted_values))"
   ]
  },
  {
   "cell_type": "code",
   "execution_count": 14,
   "metadata": {},
   "outputs": [
    {
     "name": "stdout",
     "output_type": "stream",
     "text": [
      "Cross validation score:  [0.99772727 0.99545455 0.99545455 0.99545455 0.99090909]\n"
     ]
    }
   ],
   "source": [
    "score = cross_val_score(NaiveBayes,features,target,cv=5)\n",
    "print('Cross validation score: ',score)"
   ]
  },
  {
   "cell_type": "code",
   "execution_count": 15,
   "metadata": {},
   "outputs": [
    {
     "name": "stdout",
     "output_type": "stream",
     "text": [
      "Training accuracy =  0.9960227272727272\n",
      "Testing accuracy =  0.990909090909091\n"
     ]
    }
   ],
   "source": [
    "#Print Train Accuracy\n",
    "NB_train_accuracy = NaiveBayes.score(Xtrain,Ytrain)\n",
    "print(\"Training accuracy = \",NaiveBayes.score(Xtrain,Ytrain))\n",
    "#Print Test Accuracy\n",
    "NB_test_accuracy = NaiveBayes.score(Xtest,Ytest)\n",
    "print(\"Testing accuracy = \",NaiveBayes.score(Xtest,Ytest))"
   ]
  },
  {
   "cell_type": "code",
   "execution_count": 16,
   "metadata": {},
   "outputs": [
    {
     "data": {
      "image/png": "[encoded data removed]",
      "text/plain": [
       "<Figure size 1080x720 with 2 Axes>"
      ]
     },
     "metadata": {},
     "output_type": "display_data"
    }
   ],
   "source": [
    "Ypred = NaiveBayes.predict(Xtest)\n",
    "Ytrue = Ytest\n",
    "\n",
    "from sklearn.metrics import confusion_matrix\n",
    "\n",
    "cm_nb = confusion_matrix(Ytrue,Ypred)\n",
    "\n",
    "f, ax = plt.subplots(figsize=(15,10))\n",
    "sns.heatmap(cm_nb, annot=True, linewidth=0.5, fmt=\".0f\",  cmap='viridis', ax = ax)\n",
    "plt.xlabel(\"Predicted\")\n",
    "plt.ylabel(\"Actual\")\n",
    "plt.title('Predicted vs actual')\n",
    "plt.show()"
   ]
  },
  {
   "cell_type": "markdown",
   "metadata": {},
   "source": [
    "## LOGISTIC REGRESSION"
   ]
  },
  {
   "cell_type": "code",
   "execution_count": 17,
   "metadata": {},
   "outputs": [
    {
     "name": "stdout",
     "output_type": "stream",
     "text": [
      "Logistic Regression's Accuracy is:  94.31818181818183\n",
      "             precision    recall  f1-score   support\n",
      "\n",
      "      apple       1.00      1.00      1.00        13\n",
      "     banana       1.00      1.00      1.00        17\n",
      "  blackgram       0.79      0.94      0.86        16\n",
      "   chickpea       1.00      1.00      1.00        21\n",
      "    coconut       1.00      1.00      1.00        21\n",
      "     coffee       1.00      1.00      1.00        22\n",
      "     cotton       0.87      1.00      0.93        20\n",
      "     grapes       1.00      1.00      1.00        18\n",
      "       jute       0.88      0.79      0.83        28\n",
      "kidneybeans       1.00      1.00      1.00        14\n",
      "     lentil       0.88      0.96      0.92        23\n",
      "      maize       1.00      0.86      0.92        21\n",
      "      mango       1.00      1.00      1.00        26\n",
      "  mothbeans       1.00      0.84      0.91        19\n",
      "   mungbean       1.00      0.92      0.96        24\n",
      "  muskmelon       1.00      1.00      1.00        23\n",
      "     orange       1.00      1.00      1.00        29\n",
      "     papaya       0.88      0.74      0.80        19\n",
      " pigeonpeas       0.94      0.94      0.94        18\n",
      "pomegranate       1.00      0.94      0.97        17\n",
      "       rice       0.61      0.88      0.72        16\n",
      " watermelon       1.00      1.00      1.00        15\n",
      "\n",
      "avg / total       0.95      0.94      0.94       440\n",
      "\n"
     ]
    }
   ],
   "source": [
    "from sklearn.linear_model import LogisticRegression\n",
    "LogisticReg=LogisticRegression()\n",
    "LogisticReg.fit(Xtrain,Ytrain)\n",
    "\n",
    "predicted_values = LogisticReg.predict(Xtest)\n",
    "x = metrics.accuracy_score(Ytest, predicted_values)\n",
    "acc.append(x)\n",
    "model.append('Logistic Regression')\n",
    "print(\"Logistic Regression's Accuracy is: \", x*100)\n",
    "\n",
    "print(classification_report(Ytest,predicted_values))"
   ]
  },
  {
   "cell_type": "code",
   "execution_count": 18,
   "metadata": {},
   "outputs": [
    {
     "name": "stdout",
     "output_type": "stream",
     "text": [
      "Cross validation score:  [0.96818182 0.93636364 0.95681818 0.95681818 0.94772727]\n"
     ]
    }
   ],
   "source": [
    "score = cross_val_score(LogisticReg, features, target,cv=5)\n",
    "print('Cross validation score: ',score)"
   ]
  },
  {
   "cell_type": "code",
   "execution_count": 19,
   "metadata": {},
   "outputs": [
    {
     "name": "stdout",
     "output_type": "stream",
     "text": [
      "Training accuracy =  0.95625\n",
      "Testing accuracy =  0.9431818181818182\n"
     ]
    }
   ],
   "source": [
    "#Print Train Accuracy\n",
    "LR_train_accuracy = LogisticReg.score(Xtrain,Ytrain)\n",
    "print(\"Training accuracy = \",LogisticReg.score(Xtrain,Ytrain))\n",
    "#Print Test Accuracy\n",
    "LR_test_accuracy = LogisticReg.score(Xtest,Ytest)\n",
    "print(\"Testing accuracy = \",LogisticReg.score(Xtest,Ytest))"
   ]
  },
  {
   "cell_type": "code",
   "execution_count": 20,
   "metadata": {},
   "outputs": [
    {
     "data": {
      "image/png": "[encoded data removed]",
      "text/plain": [
       "<Figure size 1080x720 with 2 Axes>"
      ]
     },
     "metadata": {},
     "output_type": "display_data"
    }
   ],
   "source": [
    "Ypred = LogisticReg.predict(Xtest)\n",
    "Ytrue = Ytest\n",
    "\n",
    "from sklearn.metrics import confusion_matrix\n",
    "\n",
    "cm_nb = confusion_matrix(Ytrue,Ypred)\n",
    "\n",
    "f, ax = plt.subplots(figsize=(15,10))\n",
    "sns.heatmap(cm_nb, annot=True, linewidth=0.5, fmt=\".0f\",  cmap='viridis', ax = ax)\n",
    "plt.xlabel(\"Predicted\")\n",
    "plt.ylabel(\"Actual\")\n",
    "plt.title('Predicted vs actual')\n",
    "plt.show()"
   ]
  },
  {
   "cell_type": "code",
   "execution_count": 21,
   "metadata": {},
   "outputs": [
    {
     "name": "stdout",
     "output_type": "stream",
     "text": [
      "['jute']\n",
      "['coffee']\n",
      "['coffee']\n"
     ]
    }
   ],
   "source": [
    "crop_pred_DT=DecisionTree.predict(np.array([[112,46,38,29,56,7,167]]))\n",
    "print(crop_pred_DT)\n",
    "crop_pred_NB=NaiveBayes.predict(np.array([[112,46,38,29,56,7,167]]))\n",
    "print(crop_pred_NB)\n",
    "crop_pred_LR=LogisticReg.predict(np.array([[112,46,38,29,56,7,167]]))\n",
    "print(crop_pred_LR)"
   ]
  },
  {
   "cell_type": "code",
   "execution_count": 30,
   "metadata": {},
   "outputs": [
    {
     "name": "stdout",
     "output_type": "stream",
     "text": [
      "['rice']\n",
      "['rice']\n",
      "['rice']\n"
     ]
    }
   ],
   "source": [
    "crop_pred_DT=DecisionTree.predict(np.array([[95,48,44,25,79,7.3,220]]))\n",
    "print(crop_pred_DT)\n",
    "crop_pred_NB=NaiveBayes.predict(np.array([[95,48,44,25,79,7.3,220]]))\n",
    "print(crop_pred_NB)\n",
    "crop_pred_LR=LogisticReg.predict(np.array([[95,48,44,25,79,7.3,220]]))\n",
    "print(crop_pred_LR)"
   ]
  },
  {
   "cell_type": "markdown",
   "metadata": {},
   "source": [
    "## ACCURACY COMPARISON"
   ]
  },
  {
   "cell_type": "code",
   "execution_count": 23,
   "metadata": {},
   "outputs": [
    {
     "data": {
      "image/png": "[encoded data removed]",
      "text/plain": [
       "<Figure size 1400x700 with 1 Axes>"
      ]
     },
     "metadata": {},
     "output_type": "display_data"
    }
   ],
   "source": [
    "plt.figure(figsize=[14,7],dpi = 100, facecolor='white')\n",
    "plt.title('Accuracy Comparison')\n",
    "plt.xlabel('Accuracy')\n",
    "plt.ylabel('ML Algorithms')\n",
    "sns.barplot(x = acc,y = model,palette='viridis')\n",
    "plt.savefig('plot.png', dpi=300, bbox_inches='tight')"
   ]
  },
  {
   "cell_type": "code",
   "execution_count": 24,
   "metadata": {},
   "outputs": [
    {
     "data": {
      "image/png": "[encoded data removed]",
      "text/plain": [
       "<Figure size 1440x504 with 1 Axes>"
      ]
     },
     "metadata": {},
     "output_type": "display_data"
    }
   ],
   "source": [
    "label = ['Decision Tree','LogisticReg','Naive Bayes']\n",
    "Test = [ dt_test_accuracy,LR_test_accuracy,\n",
    "        NB_test_accuracy]\n",
    "Train = [dt_train_accuracy, LR_train_accuracy,\n",
    "         NB_train_accuracy]\n",
    "\n",
    "f, ax = plt.subplots(figsize=(20,7)) # set the size that you'd like (width, height)\n",
    "X_axis = np.arange(len(label))\n",
    "plt.bar(X_axis - 0.2,Test, 0.4, label = 'Test', color=('midnightblue'))\n",
    "plt.bar(X_axis + 0.2,Train, 0.4, label = 'Train', color=('mediumaquamarine'))\n",
    "\n",
    "plt.xticks(X_axis, label)\n",
    "plt.xlabel(\"ML algorithms\")\n",
    "plt.ylabel(\"Accuracy\")\n",
    "plt.title(\"Testing vs Training Accuracy\")\n",
    "plt.legend()\n",
    "#plt.savefig('train vs test.png')\n",
    "plt.show()"
   ]
  },
  {
   "cell_type": "code",
   "execution_count": null,
   "metadata": {},
   "outputs": [],
   "source": []
  },
  {
   "cell_type": "code",
   "execution_count": null,
   "metadata": {},
   "outputs": [],
   "source": []
  },
  {
   "cell_type": "code",
   "execution_count": null,
   "metadata": {},
   "outputs": [],
   "source": []
  }
 ],
 "metadata": {
  "kernelspec": {
   "display_name": "Python 3",
   "language": "python",
   "name": "python3"
  },
  "language_info": {
   "codemirror_mode": {
    "name": "ipython",
    "version": 3
   },
   "file_extension": ".py",
   "mimetype": "text/x-python",
   "name": "python",
   "nbconvert_exporter": "python",
   "pygments_lexer": "ipython3",
   "version": "3.6.5"
  }
 },
 "nbformat": 4,
 "nbformat_minor": 2
}
